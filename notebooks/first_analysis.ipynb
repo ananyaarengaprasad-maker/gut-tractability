{
  "name": "gut-tractability",
  "image": "mcr.microsoft.com/devcontainers/miniconda:0-3",
  "postCreateCommand": "conda install -y -c conda-forge -c bioconda python=3.11 cobra optlang glpk carveme diamond ncbi-datasets-cli unzip && pip install jupyter"
}

